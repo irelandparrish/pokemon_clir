{
 "cells": [
  {
   "cell_type": "markdown",
   "id": "d1f60179",
   "metadata": {},
   "source": [
    "# Query translation"
   ]
  },
  {
   "cell_type": "code",
   "execution_count": 1,
   "id": "12b212fc",
   "metadata": {},
   "outputs": [],
   "source": [
    "from googletrans import Translator\n",
    "import deepl\n",
    "from sudachipy import tokenizer, dictionary\n",
    "import pandas as pd\n",
    "import wikipedia\n",
    "import stanza"
   ]
  },
  {
   "cell_type": "code",
   "execution_count": 2,
   "id": "8030906e",
   "metadata": {},
   "outputs": [
    {
     "name": "stderr",
     "output_type": "stream",
     "text": [
      "2024-05-13 21:51:29 INFO: Checking for updates to resources.json in case models have been updated.  Note: this behavior can be turned off with download_method=None or download_method=DownloadMethod.REUSE_RESOURCES\n"
     ]
    },
    {
     "data": {
      "application/vnd.jupyter.widget-view+json": {
       "model_id": "878ad77d3f384b92b61d580c3f6c11ea",
       "version_major": 2,
       "version_minor": 0
      },
      "text/plain": [
       "Downloading https://raw.githubusercontent.com/stanfordnlp/stanza-resources/main/resources_1.8.0.json:   0%|   …"
      ]
     },
     "metadata": {},
     "output_type": "display_data"
    },
    {
     "name": "stderr",
     "output_type": "stream",
     "text": [
      "2024-05-13 21:51:30 INFO: Downloaded file to C:\\Users\\irela\\stanza_resources\\resources.json\n",
      "2024-05-13 21:51:30 INFO: Loading these models for language: en (English):\n",
      "=================================\n",
      "| Processor | Package           |\n",
      "---------------------------------\n",
      "| tokenize  | combined          |\n",
      "| mwt       | combined          |\n",
      "| pos       | combined_charlm   |\n",
      "| lemma     | combined_nocharlm |\n",
      "=================================\n",
      "\n",
      "2024-05-13 21:51:31 INFO: Using device: cuda\n",
      "2024-05-13 21:51:31 INFO: Loading: tokenize\n",
      "2024-05-13 21:51:32 INFO: Loading: mwt\n",
      "2024-05-13 21:51:32 INFO: Loading: pos\n",
      "2024-05-13 21:51:33 INFO: Loading: lemma\n",
      "2024-05-13 21:51:33 INFO: Done loading processors!\n"
     ]
    }
   ],
   "source": [
    "nlp = stanza.Pipeline(lang='en', processors='tokenize,mwt,pos,lemma')"
   ]
  },
  {
   "cell_type": "markdown",
   "id": "65629820",
   "metadata": {},
   "source": [
    "### Translation\n",
    "\n",
    "I chose to try out two different translation sites, in hopes of comparing the two. The first is Google Translate, which is probably the most widely-used translator, but it tends to yield questionable and/or unnatural results with Japanese. The second I chose was DeepL, which is less popular overall but was by far the most popular among my classmates in my Japanese class. DeepL tends to perform decently and it has some features that make it particularly good for Japanese, such as the option to adjust the formality of translations. \n",
    "\n",
    "I also considered Papago, which is the state of the art for Korean translation, but it doesn't have a free API, so I stuck to the above websites and ended up not incorporating Korean into this project. "
   ]
  },
  {
   "cell_type": "code",
   "execution_count": 3,
   "id": "5214d2aa",
   "metadata": {},
   "outputs": [],
   "source": [
    "key = \"\" # API key for DeepL\n",
    "src = 'ja'\n",
    "dest = 'en'"
   ]
  },
  {
   "cell_type": "markdown",
   "id": "ef19e504",
   "metadata": {},
   "source": [
    "I'm now going to test the two translators with sentences I've handwritten myself, with a mix of sentences with more complex grammar and levels of formality. "
   ]
  },
  {
   "cell_type": "code",
   "execution_count": 4,
   "id": "ba40f522",
   "metadata": {},
   "outputs": [
    {
     "name": "stdout",
     "output_type": "stream",
     "text": [
      "Google:  I wish I could go to the park , DeepL:  I wish I could go to the park.\n",
      "Google:  I was forced to eat a banana by that bear. , DeepL:  That bear made me eat a banana.\n",
      "Google:  Have a look at this. , DeepL:  Please see here.\n",
      "Google:  Did the teacher already have lunch? , DeepL:  Has the doctor had lunch yet?\n",
      "Google:  Speaking of AKB48, who is it? , DeepL:  Speaking of AKB48, who are your guesses?\n",
      "Google:  Do you think you'll be happy if you have the money? , DeepL:  Do you think that as long as you have money you will be happy?\n",
      "Google:  I'm not good at mathematics, but not smart , DeepL:  I'm terrible at math, but that doesn't mean I'm not smart.\n"
     ]
    }
   ],
   "source": [
    "translator = Translator() # Google Translate\n",
    "dl_translator = deepl.Translator(key) # DeepL\n",
    "translation = translator.translate('公園に行ったらいいのになあって思います', src=src, dest=dest)\n",
    "dl_translation = dl_translator.translate_text('公園に行ったらいいのになあって思います', target_lang='EN-US')\n",
    "print(\"Google: \", translation.text, \", DeepL: \", dl_translation.text)\n",
    "\n",
    "sentences = ['あのクマにバナナを食べさせられた。', 'こちらをご覧ください。', '先生はもう昼ご飯を召し上がりましたか。', 'AKB48と言えば、推しメンは誰？', 'お金さえあれば嬉しくなると思いますか。', '数学は下手なんだけど、頭が良くないというわけではない']\n",
    "for sentence in sentences:\n",
    "    deepl_trans = dl_translator.translate_text(sentence, target_lang='EN-US')\n",
    "    g_trans = translator.translate(sentence, src=src, dest=dest)\n",
    "    print(\"Google: \", g_trans.text, \", DeepL: \", deepl_trans.text)"
   ]
  },
  {
   "cell_type": "markdown",
   "id": "c543b068",
   "metadata": {},
   "source": [
    "Expected translations: \"I wish I could go to the park\", \"That bear made me eat a banana\", \"Please look here\", \"Did the teacher already have lunch?\", \"Speaking of AKB48, who is your favorite member?\", \"Do you think that you'll be happy as long as you have money?\", \"I'm bad at math, but that doesn't mean that I'm not smart.\"\n",
    "\n",
    "Both performed pretty well, but let's try in the other direction now."
   ]
  },
  {
   "cell_type": "code",
   "execution_count": 5,
   "id": "8df2faf5",
   "metadata": {},
   "outputs": [
    {
     "name": "stdout",
     "output_type": "stream",
     "text": [
      "Google:  公園に行けたらいいのに , DeepL:  公園に行きたいなあ\n",
      "Google:  そのクマは私にバナナを食べさせました , DeepL:  クマにバナナを食べさせられた\n",
      "Google:  こちらをご覧ください , DeepL:  こちらをご覧ください\n",
      "Google:  先生はすでに昼食をとっていましたか？ , DeepL:  先生はもう昼食を食べたのですか？\n",
      "Google:  AKB48と言えば、あなたの好きなメンバーは誰ですか？ , DeepL:  AKB48といえば、好きなメンバーは？\n",
      "Google:  あなたがお金を持っている限り、あなたは幸せになると思いますか？ , DeepL:  お金さえあれば幸せだと思いますか？\n",
      "Google:  私は数学が苦手ですが、それは私が賢くないという意味ではありません。 , DeepL:  数学は苦手だけど、頭が悪いわけじゃない。\n"
     ]
    }
   ],
   "source": [
    "eng_sentences = [\"I wish I could go to the park\", \"That bear made me eat a banana\", \"Please look here\", \"Did the teacher already have lunch?\", \"Speaking of AKB48, who is your favorite member?\", \"Do you think that you'll be happy as long as you have money?\", \"I'm bad at math, but that doesn't mean that I'm not smart.\"]\n",
    "for sentence in eng_sentences:\n",
    "    deepl_trans = dl_translator.translate_text(sentence, target_lang='JA')\n",
    "    g_trans = translator.translate(sentence, src=dest, dest=src)\n",
    "    print(\"Google: \", g_trans.text, \", DeepL: \", deepl_trans.text)"
   ]
  },
  {
   "cell_type": "markdown",
   "id": "851b08e2",
   "metadata": {},
   "source": [
    "DeepL performed far better than Google in this direction. For the reader who doesn't know Japanese, I want to explain the mistakes made by each translator in each sentence.\n",
    "\n",
    "1. (Park sentence): DeepL missed the \"wish\" part, translating it into \"I want to go to the park.\" Google retained the original meaning pretty well, despite the structure changing a bit.\n",
    "2. (Banana): This sentence has more complicated grammar, and I was testing if either site would be able to catch it. The sentence is supposed to be causative-passive (ending in させられた), meaning it should convey a feeling of \"I was made to do this, and I feel negatively about it.\" Google missed this and only translated it as causative, i.e. \"That bear made me eat a banana\". DeepL did catch the causative-passive part.\n",
    "3. (Look - formal) Both sites translated the sentence correctly\n",
    "4. (Teacher - formal) Google used a different verb instead of eat, more like \"had\", and also didn't make the sentence as formal as intended. DeepL translated mostly correctly, but didn't make the sentence as formal as I had intended.\n",
    "5. (AKB48) - Google made the sentence semi-formal, which wasn't what I had intended. DeepL made the sentence casual as intended. Neither of them used the slang term for favorite member.\n",
    "6. (Money) - Google stretched this sentence out a lot in such a way that it sounds a bit unnatural/robotic. DeepL was correct.\n",
    "7. (Math) - Google made the sentence semi-formal and didn't use the grammar I was looking for. DeepL translated it correctly."
   ]
  },
  {
   "cell_type": "markdown",
   "id": "c1ba7038",
   "metadata": {},
   "source": [
    "Since the focus of this project is Pokemon, let's try translating some sentences related to Pokemon."
   ]
  },
  {
   "cell_type": "code",
   "execution_count": 6,
   "id": "a0345bb7",
   "metadata": {
    "scrolled": true
   },
   "outputs": [
    {
     "name": "stdout",
     "output_type": "stream",
     "text": [
      "Google:  Satoshi has caught Fushigidane  DeepL:  Satoshi once caught a fushigidane\n"
     ]
    }
   ],
   "source": [
    "pokemon_text = 'サトシはフシギダネを捕まえたことがあります'\n",
    "google_tr = translator.translate(pokemon_text, src=src, dest=dest)\n",
    "dl_tr = dl_translator.translate_text(pokemon_text, target_lang='EN-US')\n",
    "print(\"Google: \", google_tr.text, \" DeepL: \", dl_tr.text)"
   ]
  },
  {
   "cell_type": "code",
   "execution_count": 7,
   "id": "fce93063",
   "metadata": {},
   "outputs": [
    {
     "name": "stdout",
     "output_type": "stream",
     "text": [
      "Google:  アッシュは以前にブルバサウルスを捕まえたことがありますか？  DeepL:  アッシュはブルバサウルスを捕まえたことがある？\n"
     ]
    }
   ],
   "source": [
    "pokemon_text_en = 'Has Ash caught a Bulbasaur before?'\n",
    "google_en_to_j = translator.translate(pokemon_text_en, src='en', dest='ja')\n",
    "dl_en_to_j = dl_translator.translate_text(pokemon_text_en, target_lang='JA')\n",
    "print(\"Google: \", google_en_to_j.text, \" DeepL: \", dl_en_to_j.text)"
   ]
  },
  {
   "cell_type": "markdown",
   "id": "89d57275",
   "metadata": {},
   "source": [
    "Google sounds a bit more unnatural than DeepL, but neither of them are properly translating the proper nouns into their Japanese equivalents. Pokemon is an interesting topic to choose because some Pokemon have the same names across the two languages (e.g. Pikachu), but most don't. Bulbasaur should be 'fushigidane' in Japanese, but both systems are just using transliterations. Additionally, Ash should be Satoshi in Japanese, but the systems aren't picking up on that. "
   ]
  },
  {
   "cell_type": "markdown",
   "id": "0de5e889",
   "metadata": {},
   "source": [
    "I'm going to see if I can find a sentence where at least one of the systems recognizes the topic (Pokemon) and properly translates the sentence. "
   ]
  },
  {
   "cell_type": "code",
   "execution_count": 8,
   "id": "d885042d",
   "metadata": {},
   "outputs": [
    {
     "name": "stdout",
     "output_type": "stream",
     "text": [
      "Google:  In the anime called Pokemon, have you ever caught a Pokemon called Fushigidane? \n",
      " DeepL:  In the anime Pokemon, has the main character Satoshi ever caught a Pokemon called Fushigidane?\n",
      "Google:  ポケモンアニメの主人公であるアッシュは、ブルバサウルスと呼ばれるポケモンを捕まえたことがありますか？ \n",
      " DeepL:  アニメ『ポケットモンスター』の主人公アッシュは、ブルバサウルというポケモンを捕まえたことがあるのだろうか？\n"
     ]
    }
   ],
   "source": [
    "pokemon_text = 'ポケモンというアニメでは主人公のサトシはフシギダネというポケモンを捕まえたことがありますか。'\n",
    "google_tr = translator.translate(pokemon_text, src=src, dest=dest)\n",
    "dl_tr = dl_translator.translate_text(pokemon_text, target_lang='EN-US')\n",
    "print(\"Google: \", google_tr.text, \"\\n DeepL: \", dl_tr.text)\n",
    "\n",
    "pokemon_text_en = 'Has Ash, the protagonist of the Pokemon anime, ever caught the Pokemon called Bulbasaur?'\n",
    "google_en_to_j = translator.translate(pokemon_text_en, src='en', dest='ja')\n",
    "dl_en_to_j = dl_translator.translate_text(pokemon_text_en, target_lang='JA')\n",
    "print(\"Google: \", google_en_to_j.text, \"\\n DeepL: \", dl_en_to_j.text)"
   ]
  },
  {
   "cell_type": "markdown",
   "id": "12c7a6f4",
   "metadata": {},
   "source": [
    "Even after giving the systems quite a bit of context, still no luck"
   ]
  },
  {
   "cell_type": "code",
   "execution_count": 9,
   "id": "007640e9",
   "metadata": {},
   "outputs": [
    {
     "name": "stdout",
     "output_type": "stream",
     "text": [
      "['ポケモン', 'と', 'いう', 'アニメ', 'で', 'は', '主人公', 'の', 'サトシ', 'は', 'フシギダネ', 'と', 'いう', 'ポケモン', 'を', '捕まえ', 'た', 'こと', 'が', 'あり', 'ます', 'か', '。']\n"
     ]
    },
    {
     "data": {
      "text/plain": [
       "('名詞', '固有名詞', '人名', '名', '*', '*')"
      ]
     },
     "execution_count": 9,
     "metadata": {},
     "output_type": "execute_result"
    }
   ],
   "source": [
    "tokenizer_s = dictionary.Dictionary().create()\n",
    "mode = tokenizer.Tokenizer.SplitMode.C\n",
    "print([m.surface() for m in tokenizer_s.tokenize(pokemon_text, mode)])\n",
    "m = tokenizer_s.tokenize(\"サトシ\", mode)[0]\n",
    "m.part_of_speech()"
   ]
  },
  {
   "cell_type": "markdown",
   "id": "1b65c36c",
   "metadata": {},
   "source": [
    "Possible idea: if a word is a proper noun (固有名詞), check if it's in the mapping and use that translation instead"
   ]
  },
  {
   "cell_type": "code",
   "execution_count": 10,
   "id": "267537e2",
   "metadata": {},
   "outputs": [
    {
     "name": "stdout",
     "output_type": "stream",
     "text": [
      "Google:  In the anime called Pokemon, have you ever caught a Pokemon called Bulbasaur? \n",
      " DeepL:  In the anime Pokemon, has the main character Satoshi ever caught a Pokemon called Bulbasaur?\n",
      "Google:  ポケモンアニメの主人公であるアッシュは、フシギダネと呼ばれるポケモンを捕まえたことがありますか？ \n",
      " DeepL:  アニメ『ポケットモンスター』の主人公アッシュは、フシギダネというポケモンを捕まえたことがあるのだろうか？\n"
     ]
    }
   ],
   "source": [
    "pokemon_text = 'ポケモンというアニメでは主人公のサトシはBulbasaurというポケモンを捕まえたことがありますか。'\n",
    "google_tr = translator.translate(pokemon_text, src=src, dest=dest)\n",
    "dl_tr = dl_translator.translate_text(pokemon_text, target_lang='EN-US')\n",
    "print(\"Google: \", google_tr.text, \"\\n DeepL: \", dl_tr.text)\n",
    "\n",
    "pokemon_text_en = 'Has Ash, the protagonist of the Pokemon anime, ever caught the Pokemon called フシギダネ?'\n",
    "google_en_to_j = translator.translate(pokemon_text_en, src='en', dest='ja')\n",
    "dl_en_to_j = dl_translator.translate_text(pokemon_text_en, target_lang='JA')\n",
    "print(\"Google: \", google_en_to_j.text, \"\\n DeepL: \", dl_en_to_j.text)"
   ]
  },
  {
   "cell_type": "markdown",
   "id": "f47489de",
   "metadata": {},
   "source": [
    "Translation will work with direct replacement"
   ]
  },
  {
   "cell_type": "markdown",
   "id": "372882d6",
   "metadata": {},
   "source": [
    "### Game plan for query translation:\n",
    "\n",
    "1. Get query from user input\n",
    "2. Tokenize query\n",
    "3. Run part-of-speech analyzer(?), see if any proper nouns in query\n",
    "4. If there are proper nouns, compare with list of names. If the term is in the list, replace with the version in the other language.\n",
    "5. Translate query\n",
    "6. Perform search on documents"
   ]
  },
  {
   "cell_type": "code",
   "execution_count": 11,
   "id": "2f758248",
   "metadata": {},
   "outputs": [],
   "source": [
    "mapping = pd.read_csv('pokemonmap.csv')"
   ]
  },
  {
   "cell_type": "code",
   "execution_count": 12,
   "id": "373a7f19",
   "metadata": {},
   "outputs": [
    {
     "data": {
      "text/html": [
       "<div>\n",
       "<style scoped>\n",
       "    .dataframe tbody tr th:only-of-type {\n",
       "        vertical-align: middle;\n",
       "    }\n",
       "\n",
       "    .dataframe tbody tr th {\n",
       "        vertical-align: top;\n",
       "    }\n",
       "\n",
       "    .dataframe thead th {\n",
       "        text-align: right;\n",
       "    }\n",
       "</style>\n",
       "<table border=\"1\" class=\"dataframe\">\n",
       "  <thead>\n",
       "    <tr style=\"text-align: right;\">\n",
       "      <th></th>\n",
       "      <th>English</th>\n",
       "      <th>Japanese</th>\n",
       "    </tr>\n",
       "  </thead>\n",
       "  <tbody>\n",
       "    <tr>\n",
       "      <th>0</th>\n",
       "      <td>Bulbasaur</td>\n",
       "      <td>フシギダネ</td>\n",
       "    </tr>\n",
       "    <tr>\n",
       "      <th>1</th>\n",
       "      <td>Ivysaur</td>\n",
       "      <td>フシギソウ</td>\n",
       "    </tr>\n",
       "    <tr>\n",
       "      <th>2</th>\n",
       "      <td>Venusaur</td>\n",
       "      <td>フシギバナ</td>\n",
       "    </tr>\n",
       "    <tr>\n",
       "      <th>3</th>\n",
       "      <td>Charmander</td>\n",
       "      <td>ヒトカゲ</td>\n",
       "    </tr>\n",
       "    <tr>\n",
       "      <th>4</th>\n",
       "      <td>Charmeleon</td>\n",
       "      <td>リザード</td>\n",
       "    </tr>\n",
       "    <tr>\n",
       "      <th>...</th>\n",
       "      <td>...</td>\n",
       "      <td>...</td>\n",
       "    </tr>\n",
       "    <tr>\n",
       "      <th>1034</th>\n",
       "      <td>Gary</td>\n",
       "      <td>シゲル</td>\n",
       "    </tr>\n",
       "    <tr>\n",
       "      <th>1035</th>\n",
       "      <td>Kukui</td>\n",
       "      <td>ククイ</td>\n",
       "    </tr>\n",
       "    <tr>\n",
       "      <th>1036</th>\n",
       "      <td>Dawn</td>\n",
       "      <td>ヒカリ</td>\n",
       "    </tr>\n",
       "    <tr>\n",
       "      <th>1037</th>\n",
       "      <td>Jenny</td>\n",
       "      <td>ジュンサー</td>\n",
       "    </tr>\n",
       "    <tr>\n",
       "      <th>1038</th>\n",
       "      <td>Joy</td>\n",
       "      <td>ジョーイ</td>\n",
       "    </tr>\n",
       "  </tbody>\n",
       "</table>\n",
       "<p>1039 rows × 2 columns</p>\n",
       "</div>"
      ],
      "text/plain": [
       "         English Japanese\n",
       "0      Bulbasaur    フシギダネ\n",
       "1        Ivysaur    フシギソウ\n",
       "2       Venusaur    フシギバナ\n",
       "3     Charmander     ヒトカゲ\n",
       "4     Charmeleon     リザード\n",
       "...          ...      ...\n",
       "1034        Gary      シゲル\n",
       "1035       Kukui      ククイ\n",
       "1036        Dawn      ヒカリ\n",
       "1037       Jenny    ジュンサー\n",
       "1038         Joy     ジョーイ\n",
       "\n",
       "[1039 rows x 2 columns]"
      ]
     },
     "execution_count": 12,
     "metadata": {},
     "output_type": "execute_result"
    }
   ],
   "source": [
    "mapping"
   ]
  },
  {
   "cell_type": "code",
   "execution_count": 13,
   "id": "cab604c8",
   "metadata": {},
   "outputs": [
    {
     "name": "stdout",
     "output_type": "stream",
     "text": [
      "サトシ\n",
      "ピカチュウ\n"
     ]
    },
    {
     "data": {
      "text/plain": [
       "['Ash', 'は', 'Pikachu', 'を', '捕まえ', 'た', 'こと', 'が', 'あり', 'ます']"
      ]
     },
     "execution_count": 13,
     "metadata": {},
     "output_type": "execute_result"
    }
   ],
   "source": [
    "original_query = 'サトシはピカチュウを捕まえたことがあります'\n",
    "tokenizer_s = dictionary.Dictionary().create()\n",
    "mode = tokenizer.Tokenizer.SplitMode.C\n",
    "tokens = [m.surface() for m in tokenizer_s.tokenize(original_query, mode)]\n",
    "mapping_eng = list(mapping['English'])\n",
    "mapping_jpn = list(mapping['Japanese'])\n",
    "for m in tokenizer_s.tokenize(original_query, mode):\n",
    "    if '固有名詞' in m.part_of_speech():\n",
    "        print(m.surface())\n",
    "        if m.surface() in mapping_jpn:\n",
    "            name_idx = mapping_jpn.index(m.surface())\n",
    "            translated_name = mapping_eng[name_idx]\n",
    "            tokens = list(map(lambda x: x.replace(m.surface(), translated_name), tokens))\n",
    "tokens"
   ]
  },
  {
   "cell_type": "code",
   "execution_count": 14,
   "id": "bf1c383b",
   "metadata": {},
   "outputs": [
    {
     "name": "stdout",
     "output_type": "stream",
     "text": [
      "Google:  Ash has caught Pikachu \n",
      " DeepL:  Ash has caught Pikachu once\n"
     ]
    }
   ],
   "source": [
    "query = ''.join(tokens)\n",
    "google_tr = translator.translate(query, src=src, dest=dest)\n",
    "dl_tr = dl_translator.translate_text(query, target_lang='EN-US')\n",
    "print(\"Google: \", google_tr.text, \"\\n DeepL: \", dl_tr.text)"
   ]
  },
  {
   "cell_type": "markdown",
   "id": "bd9c2a19",
   "metadata": {},
   "source": [
    "So far, I've only tried out translating sentences in natural language. Now, let's try translating strings that are more query-like"
   ]
  },
  {
   "cell_type": "code",
   "execution_count": 15,
   "id": "be62707b",
   "metadata": {},
   "outputs": [
    {
     "name": "stdout",
     "output_type": "stream",
     "text": [
      "Google:  Pikachu English \n",
      " DeepL:  Pikachu English\n",
      "Google:  Denki type weakness \n",
      " DeepL:  Electric Type Weakness\n",
      "Google:  日本語のピカチュ \n",
      " DeepL:  日本語のピカチュウ\n",
      "Google:  電気タイプの衰弱 \n",
      " DeepL:  電気タイプの弱点\n"
     ]
    }
   ],
   "source": [
    "query_name_j = 'ピカチュウ英語'\n",
    "query_name_e = 'Pikachu in Japanese'\n",
    "query_type_j = 'でんきタイプ弱点'\n",
    "query_type_e = 'Electric type weakness'\n",
    "google_tr = translator.translate(query_name_j, src=src, dest=dest)\n",
    "dl_tr = dl_translator.translate_text(query_name_j, target_lang='EN-US', context='Pokemon')\n",
    "print(\"Google: \", google_tr.text, \"\\n DeepL: \", dl_tr.text)\n",
    "google_tr = translator.translate(query_type_j, src=src, dest=dest)\n",
    "dl_tr = dl_translator.translate_text(query_type_j, target_lang='EN-US', context='Pokemon')\n",
    "print(\"Google: \", google_tr.text, \"\\n DeepL: \", dl_tr.text)\n",
    "google_tr = translator.translate(query_name_e, src='en', dest='ja')\n",
    "dl_tr = dl_translator.translate_text(query_name_e, target_lang='JA', context='ポケモン')\n",
    "print(\"Google: \", google_tr.text, \"\\n DeepL: \", dl_tr.text)\n",
    "google_tr = translator.translate(query_type_e, src='en', dest='ja')\n",
    "dl_tr = dl_translator.translate_text(query_type_e, target_lang='JA', context='ポケモン')\n",
    "print(\"Google: \", google_tr.text, \"\\n DeepL: \", dl_tr.text)"
   ]
  },
  {
   "cell_type": "markdown",
   "id": "c378e52c",
   "metadata": {},
   "source": [
    "DeepL seems to be performing noticeably better than Google Translate when translating queries. \n",
    "\n",
    "DeepL also has a 'context' parameter that allows you to provide more context that could impact the translation. Before I added the context, DeepL struggled with the 'electric type weakness' translation, but upon adding context, DeepL returned the same query as I had created on my own for the JP->EN translation testing (with one word converted to its Kanji form)."
   ]
  },
  {
   "cell_type": "markdown",
   "id": "489de219",
   "metadata": {},
   "source": [
    "# Search on Wikipedia articles"
   ]
  },
  {
   "cell_type": "code",
   "execution_count": 16,
   "id": "c8fa3cd8",
   "metadata": {
    "scrolled": true
   },
   "outputs": [
    {
     "name": "stdout",
     "output_type": "stream",
     "text": [
      "['Pokémon', 'Pokémon (TV series)', 'Pokémon (video game series)', 'List of generation III Pokémon', 'Gameplay of Pokémon', 'Pokémon Red, Blue, and Yellow', 'List of generation I Pokémon', 'List of Pokémon characters', 'Pokémon Black and White', 'List of generation IV Pokémon']\n",
      "['ポケットモンスター', 'ポケモン (企業)', 'ポケモンの一覧 (102-151)', 'ポケモンの一覧 (1-51)', 'ポケモンの一覧 (152-201)', 'ポケモンの一覧 (52-101)', 'ポケモン一覧', 'ポケモン不思議のダンジョン 青の救助隊・赤の救助隊', 'ポケモンの一覧 (441-493)', 'ポケモン☆サンデー']\n"
     ]
    }
   ],
   "source": [
    "print(wikipedia.search(\"Pokemon\"))\n",
    "wikipedia.set_lang('ja')\n",
    "print(wikipedia.search(\"ポケモン\"))"
   ]
  },
  {
   "cell_type": "code",
   "execution_count": 17,
   "id": "86632b71",
   "metadata": {},
   "outputs": [
    {
     "name": "stdout",
     "output_type": "stream",
     "text": [
      "最初のポケモン映画は？\n",
      "['ポケモン (企業)', 'ポケットモンスター', '劇場版ポケットモンスター 幻のポケモン ルギア爆誕', 'ポケモン☆サンデー', 'ポケモンの家あつまる?', 'ポケモンの一覧 (102-151)', 'ポケモンの一覧 (1-51)', 'ポケットモンスター (架空の生物)', 'みんなのポケモン牧場', 'ポケモンファン']\n"
     ]
    }
   ],
   "source": [
    "movie_query_e = \"What was the first Pokemon movie?\"\n",
    "movie_tr = dl_translator.translate_text(movie_query_e, target_lang='JA', context='ポケモン')\n",
    "print(movie_tr)\n",
    "results = wikipedia.search(movie_tr)\n",
    "print(results)"
   ]
  },
  {
   "cell_type": "markdown",
   "id": "ad05ca2c",
   "metadata": {},
   "source": [
    "There is only one relevant result above, 劇場版ポケットモンスター 幻のポケモン ルギア爆誕. The page is not the page for the first movie, but it does mention that it is the second movie and the sidebar gives the name of the first movie.\n",
    "\n",
    "Of 10 results, only the 3rd one was relevant. This yields a precision of 1/10.\n",
    "\n",
    "However, this might be user error; have you ever typed a natural language question into Wikipedia before? Let's try again with something more realistic"
   ]
  },
  {
   "cell_type": "code",
   "execution_count": 18,
   "id": "e350b16e",
   "metadata": {},
   "outputs": [
    {
     "name": "stdout",
     "output_type": "stream",
     "text": [
      "ポケモン映画第1作\n",
      "['ポケットモンスター (劇場版)', 'ポケモン (企業)', 'ポケットモンスター', 'ポケモンの一覧 (1-51)', 'ポケモンの一覧 (102-151)', 'ポケモン☆サンデー', 'ポケットモンスター (アニメ)', 'ポケモンの家あつまる?', 'ポケモン・ザ・ムービーXY 光輪の超魔神 フーパ', 'ポケモン・ザ・ムービーXY 破壊の繭とディアンシー']\n"
     ]
    }
   ],
   "source": [
    "movie_query_e_shortened = \"First Pokemon movie\"\n",
    "movie_tr_new = dl_translator.translate_text(movie_query_e_shortened, target_lang='JA', context='ポケモン')\n",
    "print(movie_tr_new)\n",
    "results_new = wikipedia.search(movie_tr_new)\n",
    "print(results_new)"
   ]
  },
  {
   "cell_type": "markdown",
   "id": "e00bb152",
   "metadata": {},
   "source": [
    "The relevant results are ポケットモンスター (劇場版) (1), ポケットモンスター (アニメ) (7), ポケモン・ザ・ムービーXY 破壊の繭とディアンシー (10). These pages all mention the first movie by name, and not just in the external links section. \n",
    "\n",
    "Our precision is now 3/10, which is an improvement."
   ]
  },
  {
   "cell_type": "markdown",
   "id": "a61a9191",
   "metadata": {},
   "source": [
    "### Lemmatizing and Normalizing\n",
    "\n",
    "Aside from tokenizing and analyzing the parts of speech of each token, Sudachi can also get the normalized and dictionary forms of tokens. "
   ]
  },
  {
   "cell_type": "code",
   "execution_count": 19,
   "id": "df8d8ac9",
   "metadata": {},
   "outputs": [],
   "source": [
    "def convert_query(query, tokenizer, mode, lemma=False, normalize=False):\n",
    "    '''\n",
    "    Preprocesses a Japanese query. Replaces Pokemon names with their English equivalents, and lemmatizes and normalizes the\n",
    "    words.\n",
    "    \n",
    "        Parameters:\n",
    "            query (string): the Japanese query to be preprocessed\n",
    "            tokenizer: the sudachi tokenizer\n",
    "            mode: the mode for the sudachi tokenizer\n",
    "            lemma (bool): whether or not to lemmatize the words in the query\n",
    "            normalize (bool): whether or not to normalize the words in the query\n",
    "            \n",
    "        Returns: \n",
    "            query (string): the preprocessed query\n",
    "    '''\n",
    "    tokens = [m.surface() for m in tokenizer_s.tokenize(query, mode)]\n",
    "    for m in tokenizer.tokenize(query, mode):\n",
    "            if '固有名詞' in m.part_of_speech():\n",
    "                if m.surface() in mapping_jpn:\n",
    "                    name_idx = mapping_jpn.index(m.surface())\n",
    "                    translated_name = mapping_eng[name_idx]\n",
    "                    tokens = list(map(lambda x: x.replace(m.surface(), translated_name), tokens))\n",
    "            elif lemma == True:\n",
    "                tokens = list(map(lambda x: x.replace(m.surface(), m.dictionary_form()), tokens))\n",
    "            if normalize == True:\n",
    "                tokens = list(map(lambda x: x.replace(m.surface(), m.normalized_form()), tokens))\n",
    "    return ''.join(tokens)"
   ]
  },
  {
   "cell_type": "code",
   "execution_count": 20,
   "id": "b23a190c",
   "metadata": {},
   "outputs": [
    {
     "name": "stdout",
     "output_type": "stream",
     "text": [
      "Preprocessed query:  AshはPikachuがあります , Preprocessing + lemmatization:  AshはPikachuがあるます , Preprocessing + normalization:  AshはPikachuが有るます\n",
      "Regular translation:  Ash has Pikachu , Lemmatized:  Ash has Pikachu , Normalized:  Ash has Pikachu\n",
      "Regular results:  ['Pikachu', 'Ash Ketchum', 'Pokémon: The Electric Tale of Pikachu', 'Pokémon 3: The Movie', 'List of Pokémon films', 'Detective Pikachu (film)', 'Pokémon the Movie: I Choose You!', 'Pokémon Horizons: The Series', 'Raichu', 'Pokémon, I Choose You!'] \n",
      " Lemmatized results:  ['Ash Ketchum', 'Pikachu', 'Pokémon: The Electric Tale of Pikachu', 'Pokémon 3: The Movie', 'List of Pokémon films', 'Detective Pikachu (film)', 'Pokémon the Movie: I Choose You!', 'Pokémon Horizons: The Series', 'Pokémon, I Choose You!', 'Pokémon the Movie 2000'] \n",
      " Normalized results:  ['Pikachu', 'Ash Ketchum', 'Pokémon: The Electric Tale of Pikachu', 'Pokémon 3: The Movie', 'List of Pokémon films', 'Detective Pikachu (film)', 'Pokémon the Movie: I Choose You!', 'Pokémon Horizons: The Series', 'Raichu', 'Pokémon, I Choose You!']\n"
     ]
    }
   ],
   "source": [
    "wikipedia.set_lang('en')\n",
    "jp_query_l = convert_query('サトシはピカチュウがあります', tokenizer_s, mode, lemma=True)\n",
    "jp_query_n = convert_query('サトシはピカチュウがあります', tokenizer_s, mode, normalize=True)\n",
    "jp_query = convert_query('サトシはピカチュウがあります', tokenizer_s, mode)\n",
    "print(\"Preprocessed query: \", jp_query, \", Preprocessing + lemmatization: \", jp_query_l, \", Preprocessing + normalization: \", jp_query_n)\n",
    "jp_tr = dl_translator.translate_text(jp_query, source_lang='JA', target_lang='EN-US', context='Pokemon')\n",
    "jp_tr_l = dl_translator.translate_text(jp_query_l, source_lang='JA', target_lang='EN-US', context='Pokemon')\n",
    "jp_tr_n = dl_translator.translate_text(jp_query_n, source_lang='JA', target_lang='EN-US', context='Pokemon')\n",
    "print(\"Regular translation: \", jp_tr, \", Lemmatized: \", jp_tr_l, \", Normalized: \", jp_tr_n)\n",
    "results_jp = wikipedia.search(jp_tr)\n",
    "results_jp_l = wikipedia.search(jp_tr_l)\n",
    "results_jp_n = wikipedia.search(jp_tr_n)\n",
    "print(\"Regular results: \", results_jp, \"\\n Lemmatized results: \", results_jp_l, \"\\n Normalized results: \", results_jp_n)"
   ]
  },
  {
   "cell_type": "code",
   "execution_count": 21,
   "id": "2ca09196",
   "metadata": {},
   "outputs": [],
   "source": [
    "def convert_query_en(query, lemma=True):\n",
    "    '''\n",
    "    Preprocesses an English query. Replaces Pokemon names with their Japanese equivalents, and lemmatizes the words.\n",
    "        Parameters:\n",
    "            query (string): the English query to be preprocessed\n",
    "            lemma (bool): whether or not to lemmatize the words in the query\n",
    "            \n",
    "        Returns: \n",
    "            query (string): the preprocessed query\n",
    "    '''\n",
    "    query_split = query.split()\n",
    "    for word in query_split:\n",
    "        if word in mapping_eng:\n",
    "            name_idx = mapping_eng.index(word)\n",
    "            translated_name = mapping_jpn[name_idx]\n",
    "            query_split = list(map(lambda x: x.replace(word, translated_name), query_split))\n",
    "            query = ' '.join(query_split)\n",
    "    if lemma == True:\n",
    "        doc = nlp(query)\n",
    "        for sent in doc.sentences:\n",
    "            for word in sent.words:\n",
    "                query_split = list(map(lambda x: x.replace(word.text, word.lemma), query_split))\n",
    "    return ' '.join(query_split)"
   ]
  },
  {
   "cell_type": "code",
   "execution_count": 22,
   "id": "97f1c384",
   "metadata": {},
   "outputs": [],
   "source": [
    "wikipedia.set_lang('ja')"
   ]
  },
  {
   "cell_type": "code",
   "execution_count": 23,
   "id": "7de7ae49",
   "metadata": {},
   "outputs": [
    {
     "name": "stdout",
     "output_type": "stream",
     "text": [
      "サトシ have a ピカチュウ\n",
      "サトシ have a ピカチュウ\n"
     ]
    }
   ],
   "source": [
    "print(convert_query_en('Ash has a Pikachu', lemma=True))\n",
    "print(convert_query_en('Ash has a Pikachu'))"
   ]
  },
  {
   "cell_type": "code",
   "execution_count": 24,
   "id": "3db23d60",
   "metadata": {},
   "outputs": [
    {
     "name": "stdout",
     "output_type": "stream",
     "text": [
      "what be the first Pokemon movie?\n",
      "ポケモン映画第1弾は？\n",
      "['ポケットモンスター (劇場版)', 'ポケモンの一覧 (1-51)', 'ポケモンの一覧 (102-151)', 'ポケモン☆サンデー', 'ポケモンの家あつまる?', 'ポケモン・ザ・ムービーXY 光輪の超魔神 フーパ', 'ポケモンの一覧 (52-101)', 'ピカチュウとポケモンおんがくたい', 'ポケモンカードゲームの発売タイトル一覧', 'ポケットモンスター (アニメ)']\n"
     ]
    }
   ],
   "source": [
    "movie_query_e = \"What was the first Pokemon movie?\"\n",
    "movie_query_converted = convert_query_en(movie_query_e, lemma=True)\n",
    "print(movie_query_converted)\n",
    "movie_tr = dl_translator.translate_text(movie_query_converted, target_lang='JA', context='ポケモン')\n",
    "print(movie_tr)\n",
    "results = wikipedia.search(movie_tr)\n",
    "print(results)"
   ]
  },
  {
   "cell_type": "markdown",
   "id": "ebe07ea4",
   "metadata": {},
   "source": [
    "Recall that the first attempt at making this search, where we didn't lemmatize the query first, had only 1 relevant query returned (at rank 3). Now, the very first result is relevant, along with results 6 and 10. Lemmatizing the query before translating it greatly improved the precision."
   ]
  },
  {
   "cell_type": "markdown",
   "id": "d66b6a4c",
   "metadata": {},
   "source": [
    "### Comparing DeepL and Google Translate"
   ]
  },
  {
   "cell_type": "markdown",
   "id": "fe397cde",
   "metadata": {},
   "source": [
    "#### English Queries"
   ]
  },
  {
   "cell_type": "code",
   "execution_count": 25,
   "id": "a96e4b09",
   "metadata": {},
   "outputs": [
    {
     "name": "stdout",
     "output_type": "stream",
     "text": [
      "Preprocessed query:  When did サトシ set his バタフリー free? , Preprocessing + lemmatization:  when do サトシ set his バタフリー free?\n",
      "Regular translation:  サトシはいつバタフリーになったのか？ , Lemmatized:  サトシはいつ、彼のバタフライを自由にするのか？\n",
      "Regular results:  ['電撃!ピカチュウ', 'カスミ (アニメポケットモンスター)', 'ポケットモンスター (アニメ)', 'エンタの神様', 'ポケットモンスター (ゲームシリーズ)', 'ポケットモンスターSPECIALの登場人物', 'ポケモン☆サンデー', 'M-1グランプリ', '伊集院光', 'イナズマイレブンGOの登場人物'] \n",
      " Lemmatized results:  ['アニメ版ポケットモンスターの登場人物', 'ポケモンの一覧 (102-151)', '林原めぐみ', '山本太郎', 'ワンパンマン', '孤独のグルメ (テレビドラマ)', 'ウルトラ怪獣擬人化計画', \"Pop'n musicの登場キャラクター\", 'アイシールド21の登場人物', '龍が如くシリーズの登場人物']\n"
     ]
    }
   ],
   "source": [
    "# DeepL\n",
    "anime_query_e = \"When did Ash set his Butterfree free?\"\n",
    "anime_query_converted_lemma = convert_query_en(anime_query_e, lemma=True)\n",
    "anime_query_converted = convert_query_en(anime_query_e, lemma=False)\n",
    "print(\"Preprocessed query: \", anime_query_converted, \", Preprocessing + lemmatization: \", anime_query_converted_lemma)\n",
    "anime_tr = dl_translator.translate_text(anime_query_converted, source_lang='EN', target_lang='JA', context='ポケモン')\n",
    "anime_tr_l = dl_translator.translate_text(anime_query_converted_lemma, source_lang='EN', target_lang='JA', context='ポケモン')\n",
    "print(\"Regular translation: \", anime_tr, \", Lemmatized: \", anime_tr_l)\n",
    "results_anime = wikipedia.search(anime_tr)\n",
    "results_anime_l = wikipedia.search(anime_tr_l)\n",
    "print(\"Regular results: \", results_anime, \"\\n Lemmatized results: \", results_anime_l)\n"
   ]
  },
  {
   "cell_type": "markdown",
   "id": "3a29552d",
   "metadata": {},
   "source": [
    "Relevant results, no lemmatization: 0\n",
    "\n",
    "Relevant results, with lemmatization: 1 (first result)"
   ]
  },
  {
   "cell_type": "markdown",
   "id": "bd1772e4",
   "metadata": {},
   "source": [
    "Let's try it again with Google Translate instead of DeepL"
   ]
  },
  {
   "cell_type": "code",
   "execution_count": 26,
   "id": "f64826c4",
   "metadata": {},
   "outputs": [
    {
     "name": "stdout",
     "output_type": "stream",
     "text": [
      "Preprocessed query:  When did サトシ set his バタフリー free? , Preprocessing + lemmatization:  when do サトシ set his バタフリー free?\n",
      "Regular translation:  サトシはいつ彼のバタフリーを自由に設定しましたか？ , Lemmatized:  サトシはいつ彼のバタフリーを自由に設定しますか？\n",
      "Regular results:  ['ポケットモンスターSPECIALの登場人物', 'イナズマイレブンGOの登場人物'] \n",
      " Lemmatized results:  ['ポケットモンスターSPECIALの登場人物', 'イナズマイレブンGOの登場人物']\n"
     ]
    }
   ],
   "source": [
    "# Google\n",
    "anime_query_e = \"When did Ash set his Butterfree free?\"\n",
    "anime_query_converted_lemma = convert_query_en(anime_query_e, lemma=True)\n",
    "anime_query_converted = convert_query_en(anime_query_e, lemma=False)\n",
    "print(\"Preprocessed query: \", anime_query_converted, \", Preprocessing + lemmatization: \", anime_query_converted_lemma)\n",
    "anime_tr = translator.translate(anime_query_converted, src='en', dest='ja').text\n",
    "anime_tr_l = translator.translate(anime_query_converted_lemma, src='en', dest='ja').text\n",
    "print(\"Regular translation: \", anime_tr, \", Lemmatized: \", anime_tr_l)\n",
    "results_anime = wikipedia.search(anime_tr)\n",
    "results_anime_l = wikipedia.search(anime_tr_l)\n",
    "print(\"Regular results: \", results_anime, \"\\n Lemmatized results: \", results_anime_l)"
   ]
  },
  {
   "cell_type": "markdown",
   "id": "0a7e0f1a",
   "metadata": {},
   "source": [
    "The Google Translate translation yielded less results overall, and both queries had the same results. Neither of the results are relevant"
   ]
  },
  {
   "cell_type": "markdown",
   "id": "65efc8b0",
   "metadata": {},
   "source": [
    "#### Japanese Queries"
   ]
  },
  {
   "cell_type": "markdown",
   "id": "51f65113",
   "metadata": {},
   "source": [
    "For these, instead of trying to translate them myself, I'm going to reuse the translations from above. "
   ]
  },
  {
   "cell_type": "code",
   "execution_count": 27,
   "id": "b3805c9c",
   "metadata": {},
   "outputs": [],
   "source": [
    "wikipedia.set_lang('en')"
   ]
  },
  {
   "cell_type": "code",
   "execution_count": 28,
   "id": "7c7a3cd1",
   "metadata": {},
   "outputs": [
    {
     "name": "stdout",
     "output_type": "stream",
     "text": [
      "Preprocessed query:  Ashはいつバタフリーになったのか？ , Preprocessing + lemmatization:  Ashはいつバタフリーだなるたのか? , Preprocessing + normalization:  Ashはいつバタフリーだ成るたのか?\n",
      "Regular translation:  When did Ash become butterfree? , Lemmatized:  When did Ash become butterfree? , Normalized:  When did Ash become a butterfly?\n",
      "Regular results:  ['Pokémon: Indigo League', 'Pokémon the Movie: I Choose You!', 'Pokémon: Black & White: Adventures in Unova and Beyond', 'List of generation I Pokémon', 'List of Pokémon episodes (seasons 1–13)', 'List of Pokémon episodes (seasons 14–present)', 'Pokémon Adventures'] \n",
      " Lemmatized results:  ['Pokémon: Indigo League', 'Pokémon the Movie: I Choose You!', 'Pokémon: Black & White: Adventures in Unova and Beyond', 'List of generation I Pokémon', 'List of Pokémon episodes (seasons 1–13)', 'List of Pokémon episodes (seasons 14–present)', 'Pokémon Adventures'] \n",
      " Normalized results:  ['To Pimp a Butterfly', 'Papilio troilus', 'Seppuku', 'List of Code:Breaker characters', 'Possessor (film)', 'List of brothels in Nevada', 'Ubiquitous Synergy Seeker', 'List of film director–composer collaborations', 'One Hundred Years of Solitude', 'Eucalyptus']\n"
     ]
    }
   ],
   "source": [
    "# DeepL \n",
    "anime_query_j = \"サトシはいつバタフリーになったのか？\"\n",
    "anime_query_converted_lemma = convert_query(anime_query_j, tokenizer_s, mode, lemma=True)\n",
    "anime_query_converted_n = convert_query(anime_query_j, tokenizer_s, mode, lemma=False, normalize=True)\n",
    "anime_query_converted = convert_query(anime_query_j, tokenizer_s, mode)\n",
    "print(\"Preprocessed query: \", anime_query_converted, \", Preprocessing + lemmatization: \", anime_query_converted_lemma, \", Preprocessing + normalization: \", anime_query_converted_n)\n",
    "anime_tr = dl_translator.translate_text(anime_query_converted, source_lang='JA', target_lang='EN-US', context='Pokemon')\n",
    "anime_tr_l = dl_translator.translate_text(anime_query_converted_lemma, source_lang='JA', target_lang='EN-US', context='Pokemon')\n",
    "anime_tr_n = dl_translator.translate_text(anime_query_converted_n, source_lang='JA', target_lang='EN-US', context='Pokemon')\n",
    "print(\"Regular translation: \", anime_tr, \", Lemmatized: \", anime_tr_l, \", Normalized: \", anime_tr_n)\n",
    "results_anime = wikipedia.search(anime_tr)\n",
    "results_anime_l = wikipedia.search(anime_tr_l)\n",
    "results_anime_n = wikipedia.search(anime_tr_n)\n",
    "print(\"Regular results: \", results_anime, \"\\n Lemmatized results: \", results_anime_l, \"\\n Normalized results: \", results_anime_n)\n"
   ]
  },
  {
   "cell_type": "code",
   "execution_count": 29,
   "id": "a0502b35",
   "metadata": {},
   "outputs": [
    {
     "name": "stdout",
     "output_type": "stream",
     "text": [
      "Preprocessed query:  Ashはいつバタフリーになったのか？ , Preprocessing + lemmatization:  Ashはいつバタフリーだなるたのか? , Preprocessing + normalization:  Ashはいつバタフリーだ成るたのか?\n",
      "Regular translation:  When did ASH become so -free? , Lemmatized:  When is ASH butterfly? , Normalized:  When did ASH make a butterfly?\n",
      "Regular results:  ['Ash Ketchum', 'Ferreira family', 'Pokémon, I Choose You!', 'Hochstetter family', 'Callum Kane', 'Hannah Ashworth', 'Pokémon Puzzle League', 'Renewable Heat Incentive scandal', 'Types of volcanic eruptions', 'Ally Gorman'] \n",
      " Lemmatized results:  ['Fraxinus', 'To Pimp a Butterfly', 'Iron Butterfly', 'Fraxinus excelsior', 'Ash Riser', 'Seppuku', 'Papilio glaucus', 'Butterfly (TV series)', 'Papilio polyxenes', 'Papilio troilus'] \n",
      " Normalized results:  ['To Pimp a Butterfly', 'Butterfly (TV series)', 'Papilio troilus', 'Seppuku', 'List of Code:Breaker characters', 'Possessor (film)', 'Shadow Cabinet (comics)', 'List of film director–composer collaborations', 'List of Chopped episodes (season 41–present)', 'List of Canadian writers']\n"
     ]
    }
   ],
   "source": [
    "# Google\n",
    "anime_query_j = \"サトシはいつバタフリーになったのか？\"\n",
    "anime_query_converted_lemma = convert_query(anime_query_j, tokenizer_s, mode, lemma=True)\n",
    "anime_query_converted_n = convert_query(anime_query_j, tokenizer_s, mode, lemma=False, normalize=True)\n",
    "anime_query_converted = convert_query(anime_query_j, tokenizer_s, mode)\n",
    "print(\"Preprocessed query: \", anime_query_converted, \", Preprocessing + lemmatization: \", anime_query_converted_lemma, \", Preprocessing + normalization: \", anime_query_converted_n)\n",
    "anime_tr = translator.translate(anime_query_converted, src ='ja', dest='en').text\n",
    "anime_tr_l = translator.translate(anime_query_converted_lemma, src='ja', dest='en').text\n",
    "anime_tr_n = translator.translate(anime_query_converted_n, src='ja', dest='en').text\n",
    "print(\"Regular translation: \", anime_tr, \", Lemmatized: \", anime_tr_l, \", Normalized: \", anime_tr_n)\n",
    "results_anime = wikipedia.search(anime_tr)\n",
    "results_anime_l = wikipedia.search(anime_tr_l)\n",
    "results_anime_n = wikipedia.search(anime_tr_n)\n",
    "print(\"Regular results: \", results_anime, \"\\n Lemmatized results: \", results_anime_l, \"\\n Normalized results: \", results_anime_n)\n"
   ]
  },
  {
   "cell_type": "markdown",
   "id": "690ef64d",
   "metadata": {},
   "source": [
    "Relevant: Pokemon: Indigo League, Pokemon the Movie: I Choose You!, Pokemon Black and White: Adventures in Unova and Beyond, List of Pokemon Episodes (seasons 1-13)\n",
    "\n",
    "**DeepL Precisions**\n",
    "* Regular: 4/10\n",
    "* Lemmatized: 4/10\n",
    "* Normalized: 0/10\n",
    "\n",
    "**Google Precisions**\n",
    "* Regular: 1/10\n",
    "* Lemmatized: 0/10\n",
    "* Normalized: 0/10"
   ]
  },
  {
   "cell_type": "markdown",
   "id": "29d031a0",
   "metadata": {},
   "source": [
    "### Design decisions for final code\n",
    "\n",
    "* I chose to set lemma=True as the default for English and lemma=False and normalize=False for Japanese. Based on the above experiments, the precision improved when English queries were lemmatized, while lemmatization didn't work very well for Japanese (arimasu becoming aru+masu -> arumasu) and normalization yielded strange results.\n",
    "\n",
    "* I chose to only use the DeepL translator instead of allowing the user to choose which translator to use. When I experimented above, Google Translate's translated query yielded far fewer results for both queries."
   ]
  },
  {
   "cell_type": "code",
   "execution_count": 30,
   "id": "04c976ae",
   "metadata": {},
   "outputs": [],
   "source": [
    "def translate_query(query, source_language):\n",
    "    '''\n",
    "    Translates a query that has already been preprocessed. Uses the DeepL translator.\n",
    "        Parameters:\n",
    "            query (string): the query to be translated\n",
    "            source_language (string): the language that the query is in. If 'en', translates into Japanese. \n",
    "            \n",
    "        Returns: \n",
    "            query (string): the translated query\n",
    "    '''\n",
    "    if source_language == 'en':\n",
    "        return dl_translator.translate_text(query, source_lang='EN', target_lang='JA')\n",
    "    else:\n",
    "        return dl_translator.translate_text(query, source_lang='JA', target_lang='EN-US')"
   ]
  },
  {
   "cell_type": "code",
   "execution_count": 32,
   "id": "9784d447",
   "metadata": {},
   "outputs": [],
   "source": [
    "def search_en(query, lemma=True):\n",
    "    '''\n",
    "    Performs the entire search process on an English query. First the query is preprocessed, then translated into Japanese, \n",
    "    then a search is performed on Japanese wikipedia.\n",
    "        Parameters:\n",
    "            query (string): the query \n",
    "            lemma (bool): whether or not to lemmatize the query before translation\n",
    "            \n",
    "        Returns: \n",
    "            results (list[str]): the titles of the top 10 results from Japanese Wikipedia. \n",
    "    '''\n",
    "    query = convert_query_en(query, lemma)\n",
    "    query = translate_query(query, 'en')\n",
    "    wikipedia.set_lang('ja')\n",
    "    results = wikipedia.search(query)\n",
    "    return results\n",
    "\n",
    "def search_ja(query, tokenizer, mode, lemma=False, normalize=False):\n",
    "    '''\n",
    "    Performs the entire search process on an English query. First the query is preprocessed, then translated into Japanese, \n",
    "    then a search is performed on Japanese wikipedia.\n",
    "        Parameters:\n",
    "            query (string): the query \n",
    "            tokenizer: the sudachi tokenizer\n",
    "            mode: the mode for the sudachi tokenizer\n",
    "            lemma (bool): whether or not to lemmatize the words in the query\n",
    "            normalize (bool): whether or not to normalize the words in the query\n",
    "            \n",
    "        Returns: \n",
    "            results (list[str]): the titles of the top 10 results from English Wikipedia. \n",
    "    '''\n",
    "    query = convert_query(query=query, tokenizer=tokenizer, mode=mode, lemma=lemma, normalize=normalize)\n",
    "    query = translate_query(query, 'ja')\n",
    "    wikipedia.set_lang('en')\n",
    "    results = wikipedia.search(query)\n",
    "    return results"
   ]
  },
  {
   "cell_type": "code",
   "execution_count": 33,
   "id": "fe13ea16",
   "metadata": {},
   "outputs": [
    {
     "name": "stdout",
     "output_type": "stream",
     "text": [
      "['アニメ版ポケットモンスターの登場人物', 'ポケモンの一覧 (102-151)', '林原めぐみ', '山本太郎', 'ワンパンマン', '孤独のグルメ (テレビドラマ)', 'ウルトラ怪獣擬人化計画', \"Pop'n musicの登場キャラクター\", 'アイシールド21の登場人物', '龍が如くシリーズの登場人物']\n",
      "['Pokémon: Indigo League', 'Pokémon the Movie: I Choose You!', 'Pokémon: Black & White: Adventures in Unova and Beyond', 'List of generation I Pokémon', 'List of Pokémon episodes (seasons 1–13)', 'List of Pokémon episodes (seasons 14–present)', 'Pokémon Adventures']\n"
     ]
    }
   ],
   "source": [
    "# Test\n",
    "print(search_en(\"When did Ash set his Butterfree free?\"))\n",
    "print(search_ja(\"サトシはいつバタフリーになったのか？\", tokenizer=tokenizer_s, mode=mode))"
   ]
  },
  {
   "cell_type": "code",
   "execution_count": 34,
   "id": "69467aa2",
   "metadata": {},
   "outputs": [
    {
     "name": "stdout",
     "output_type": "stream",
     "text": [
      "['ポケットモンスター ダイヤモンド・パール', 'ポケットモンスター ダイヤモンド&パール', '劇場版ポケットモンスター ダイヤモンド&パール 幻影の覇者 ゾロアーク', 'ポケットモンスター', '劇場版ポケットモンスター ダイヤモンド&パール アルセウス 超克の時空へ', 'ポケットモンスター ブリリアントダイヤモンド・シャイニングパール', 'ポケットモンスターダイヤモンド・パール物語 ポケモンDP', 'ポケットモンスター (アニメ)', 'ポケットモンスター ダイヤモンド・パールの登場人物', 'ポケットモンスター 赤・緑']\n",
      "['Pokémon Diamond and Pearl', 'Pokémon Brilliant Diamond and Shining Pearl', 'Pokémon Platinum', 'Pokémon (video game series)', 'Pokémon Black and White', 'Pokémon: Diamond and Pearl: Battle Dimension', 'Pokémon: Diamond and Pearl: Galactic Battles', 'Pokémon the Series: Diamond and Pearl', 'List of Pokémon video games', 'List of Pokémon films']\n"
     ]
    }
   ],
   "source": [
    "# Short query\n",
    "print(search_en(\"Pokemon Diamond release date\"))\n",
    "print(search_ja(\"ポケットモンスター ダイヤモンド発売日\", tokenizer=tokenizer_s, mode=mode))"
   ]
  }
 ],
 "metadata": {
  "kernelspec": {
   "display_name": "Python 3 (ipykernel)",
   "language": "python",
   "name": "python3"
  },
  "language_info": {
   "codemirror_mode": {
    "name": "ipython",
    "version": 3
   },
   "file_extension": ".py",
   "mimetype": "text/x-python",
   "name": "python",
   "nbconvert_exporter": "python",
   "pygments_lexer": "ipython3",
   "version": "3.11.7"
  }
 },
 "nbformat": 4,
 "nbformat_minor": 5
}
